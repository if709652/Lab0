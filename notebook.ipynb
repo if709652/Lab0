{
 "cells": [
  {
   "cell_type": "markdown",
   "metadata": {
    "pycharm": {
     "name": "#%% md\n"
    }
   },
   "source": [
    " <img src=\"https://innovacion-social.academia.iteso.mx/wp-content/uploads/sites/94/2019/05/cropped-Iteso-logo_horizontal.png\">"
   ]
  },
  {
   "cell_type": "markdown",
   "metadata": {
    "pycharm": {
     "name": "#%% md\n"
    }
   },
   "source": [
    " #  <font color = black> ***Elaborado por : Odette Mendoza Diaz***"
   ]
  },
  {
   "cell_type": "markdown",
   "metadata": {
    "pycharm": {
     "name": "#%% md\n"
    }
   },
   "source": [
    " ## ***Materia: Microestructuras y Sistemas de Trading***"
   ]
  },
  {
   "cell_type": "markdown",
   "metadata": {
    "pycharm": {
     "name": "#%% md\n"
    }
   },
   "source": [
    " ### Instituto Tecnologico de Estudios Superiores de Occidente ### "
   ]
  },
  {
   "cell_type": "markdown",
   "metadata": {
    "pycharm": {
     "name": "#%% md\n"
    }
   },
   "source": [
    " #### Este laboratorio tiene como objetivo darle respuesta a la siguiente pregunta:  ¿Qué estrategia de inversión propondrías si tu trabajo fuera administrar 1 Millón de pesos? ####"
   ]
  },
  {
   "cell_type": "markdown",
   "metadata": {
    "pycharm": {
     "name": "#%% md\n"
    }
   },
   "source": [
    " ### <font color = blue>***Librerias y Dependencias :***###"
   ]
  },
  {
   "cell_type": "markdown",
   "metadata": {
    "pycharm": {
     "name": "#%% md\n"
    }
   },
   "source": [
    "Para poder correr este notebook es necesario tener instaladas y/o en el archivo de requirements.txt las siguientes librerias:"
   ]
  },
  {
   "cell_type": "markdown",
   "metadata": {
    "pycharm": {
     "name": "#%% md\n"
    }
   },
   "source": [
    "* pandas>=1.1.1\n",
    "* numpy>=1.19.1\n",
    "* jupyter>=1.0.0\n",
    "* yFinance>=0.1.54"
   ]
  },
  {
   "cell_type": "markdown",
   "metadata": {
    "pycharm": {
     "name": "#%% md\n"
    }
   },
   "source": [
    "Para correr este notebook es necesario contar con los siguientes archivos y dependencias externas:\n"
   ]
  },
  {
   "cell_type": "markdown",
   "metadata": {
    "pycharm": {
     "name": "#%% md\n"
    }
   },
   "source": [
    " ### <font color = blue>***Introduccion :***###"
   ]
  },
  {
   "cell_type": "markdown",
   "metadata": {
    "pycharm": {
     "name": "#%% md\n"
    }
   },
   "source": [
    "**Inversion Pasiva:**\n",
    "\n",
    "La gestión pasiva o inversión pasiva es el proceso de inversión a través del cual el gestor de un fondo de inversión tomará decisiones de inversión con el objetivo de obtener un comportamiento similar o igual al de un índice de referencia (ben. Es lo opuesto a la gestión activa.\n",
    "\n",
    "Los inversores que confían en esta gestión consideran, que el mercado es eficiente y por tanto, no es posible obtener rentabilidades superiores al mercado. Por lo tanto lo más racional es intentar replicarlo o componer una cartera cuyo objetivo no sea adivinar qué empresas serán las más rentables.\n",
    "\n",
    "Para replicar al índice, los gestores pasivos pueden por tanto invertir en los mismos títulos y en la misma proporción que el índice, consiguiendo su misma rentabilidad. Es lo que se conoce como réplica física. Pero también se puede hacer una réplica por muestreo (invirtiendo en los títulos más representativos), o realizando una réplica sintética, mediante el uso de derivados financieros. \n",
    "\n",
    "**Inversion Activa:**\n",
    "\n",
    "La gestión activa o inversión activa es el proceso de inversión a través del cual el gestor de un fondo de inversión busca y selecciona activos financieros basado en su propio criterio y análisis, con el objetivo de conseguir unas rentabilidades superiores a las del mercado.\n",
    "\n",
    "A la hora de invertir en algún fondo de inversión gestionado de manera activa hay que tener en cuenta que cabe la posibilidad de que las rentabilidades obtenidas no sean superiores a las del mercado. Por lo que antes de decidirse a seleccionar un fondo determinado es aconsejable realizar un análisis histórico. Es decir, ver cómo ha actuado el fondo en el pasado y si el gestor ha tenido la capacidad de superar al mercado. \n"
   ]
  },
  {
   "cell_type": "markdown",
   "metadata": {
    "pycharm": {
     "name": "#%% md\n"
    }
   },
   "source": [
    " ### <font color = blue>***Objetivos :***###"
   ]
  },
  {
   "cell_type": "markdown",
   "metadata": {
    "pycharm": {
     "name": "#%% md\n"
    }
   },
   "source": [
    "* Lograr identificar que tecnica ya sea pasiva o activa es la mejor opcion de inversion, o sea, cual nos da un mejor rendimiento \n",
    "* Construir un algoritmo que pueda replicar el mercado y observar los rendimientos que da en el lapso de tiempo indicado\n",
    "* Contruir un algoritmo en el que inviertas una proporcion de tu capital en el activo de mayor ponderacion,y observar los cambios en el rendimiento \n",
    "\n"
   ]
  },
  {
   "cell_type": "markdown",
   "metadata": {
    "pycharm": {
     "name": "#%% md\n"
    }
   },
   "source": [
    " ### <font color = blue>***Datos :***###\n",
    "    "
   ]
  }
 ],
 "metadata": {
  "kernelspec": {
   "display_name": "Python 3",
   "language": "python",
   "name": "python3"
  },
  "language_info": {
   "codemirror_mode": {
    "name": "ipython",
    "version": 3
   },
   "file_extension": ".py",
   "mimetype": "text/x-python",
   "name": "python",
   "nbconvert_exporter": "python",
   "pygments_lexer": "ipython3",
   "version": "3.8.3"
  }
 },
 "nbformat": 4,
 "nbformat_minor": 1
}